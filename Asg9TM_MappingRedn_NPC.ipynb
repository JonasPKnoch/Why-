{
  "cells": [
    {
      "cell_type": "code",
      "execution_count": null,
      "metadata": {
        "run_control": {
          "frozen": false,
          "read_only": false
        },
        "id": "ReuBKe5-Weqw"
      },
      "outputs": [],
      "source": [
        "#~~~~~~~~~~~~~~~~~~~~~~~~~~~~~~~~~~~~~~~~~~~~~~~~~~~~~~~\n",
        "import sys\n",
        "\n",
        "# -- Detect if in Own Install or in Colab\n",
        "try:\n",
        "    import google.colab\n",
        "    OWN_INSTALL = False\n",
        "except:\n",
        "    OWN_INSTALL = True\n",
        "    \n",
        "if OWN_INSTALL:\n",
        "    \n",
        "  #---- Leave these definitions ON if running on laptop\n",
        "  #---- Else turn OFF by putting them between ''' ... '''\n",
        "\n",
        "  sys.path[0:0] = ['../../../../..',  '../../../../../3rdparty',  \n",
        "                   '../../../..',  '../../../../3rdparty',  \n",
        "                   '../../..',     '../../../3rdparty', \n",
        "                   '../..',        '../../3rdparty',\n",
        "                   '..',           '../3rdparty' ]\n",
        "\n",
        "else: # In colab\n",
        "  ! if [ ! -d Jove ]; then git clone https://github.com/ganeshutah/Jove Jove; fi\n",
        "  sys.path.append('./Jove')\n",
        "  sys.path.append('./Jove/jove')\n",
        "\n",
        "# -- common imports --\n",
        "from jove.Def_TM     import *\n",
        "from jove.Def_md2mc  import *\n",
        "from jove.DotBashers import *\n",
        "from jove.JoveEditor import *\n",
        "from jove.Def_PDA    import *\n",
        "from jove.AnimateTM import * #-- usage: AnimateTM(whas101DTM, FuseEdges=True)\n",
        "\n",
        "# -- common imports --\n",
        "from jove.PcpJupyterNew import *\n",
        "#~~~~~~~~~~~~~~~~~~~~~~~~~~~~~~~~~~\n",
        "#~~~~~~~~~~~~~~~~~~~~~~~~~~~~~~~~~~~~~~~~~~~~~~~~~~~~~~~"
      ]
    },
    {
      "cell_type": "markdown",
      "source": [
        "#**(1) Answer the 1-pt question from the PDF**\n",
        "## what topic interested you the most?\n",
        "\n",
        "... answer ...\n"
      ],
      "metadata": {
        "id": "-cAfGfxhOLMg"
      }
    },
    {
      "cell_type": "markdown",
      "source": [
        "# **(4) TM Design, 6 pts, new, not in PDF**\n",
        "\n",
        "## Design a TM that takes a string in binary, LSB first, and adds 1 to it. It accepts if the result is even. It rejects epsilon.\n",
        "\n",
        "## Examples:\n",
        "\n",
        "### epsilon -don't change-> reject\n",
        "### 0 -change to-> 1 (reject)\n",
        "### 1 -change to-> 01 (accept)\n",
        "### 1011 -change to-> 0111 (accept)\n",
        "### 11111 -change to-> 000001 (accept)\n",
        "#### 0111 -change to-> 1111 (reject)"
      ],
      "metadata": {
        "id": "OobYtAkXMG1w"
      }
    },
    {
      "cell_type": "markdown",
      "source": [
        "# **(2) Mapping Reduction, 6 pts; plz follow the wording of PDF Q2**\n",
        "\n",
        "## Exercise 15.2.3, PCP Solver in Jove\n",
        "## Look at \"Here is how to build a mapping reduction from Ambiguous CFGs"
      ],
      "metadata": {
        "id": "GiV7_GGRKTr4"
      }
    },
    {
      "cell_type": "markdown",
      "source": [
        "# Provid a proof of the aforesaid mapping reduction. Write down these steps carefully:\n",
        "\n",
        "## 1) If the PCP system (\"the set of tiles\") given has a solution, then the grammar produced via the suggested mapping reduction is ambiguous\n",
        "\n",
        "## 2) If the PCP system does not have a solution, then the produced grammar is not ambiguous"
      ],
      "metadata": {
        "id": "-nOdLS6oMm9U"
      }
    },
    {
      "cell_type": "markdown",
      "source": [
        "# **(3) NPC Question, 6 pts, follow the wording of PDF Q3**\n",
        "## Answer below\n",
        "## ..."
      ],
      "metadata": {
        "id": "dAiDq_S8Q-b2"
      }
    },
    {
      "cell_type": "markdown",
      "metadata": {
        "id": "nRoUNlXSWerI"
      },
      "source": [
        "# END"
      ]
    }
  ],
  "metadata": {
    "kernelspec": {
      "display_name": "Python 3",
      "language": "python",
      "name": "python3"
    },
    "language_info": {
      "codemirror_mode": {
        "name": "ipython",
        "version": 3
      },
      "file_extension": ".py",
      "mimetype": "text/x-python",
      "name": "python",
      "nbconvert_exporter": "python",
      "pygments_lexer": "ipython3",
      "version": "3.8.5"
    },
    "toc": {
      "colors": {
        "hover_highlight": "#DAA520",
        "running_highlight": "#FF0000",
        "selected_highlight": "#FFD700"
      },
      "moveMenuLeft": true,
      "nav_menu": {
        "height": "318px",
        "width": "252px"
      },
      "navigate_menu": true,
      "number_sections": true,
      "sideBar": true,
      "threshold": 4,
      "toc_cell": false,
      "toc_section_display": "block",
      "toc_window_display": false,
      "widenNotebook": false
    },
    "colab": {
      "provenance": []
    }
  },
  "nbformat": 4,
  "nbformat_minor": 0
}